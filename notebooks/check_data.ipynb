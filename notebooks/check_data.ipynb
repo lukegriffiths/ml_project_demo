{
 "cells": [
  {
   "cell_type": "code",
   "execution_count": null,
   "metadata": {},
   "outputs": [],
   "source": []
  }
 ],
 "metadata": {
  "kernelspec": {
   "display_name": "Python 3.10.0 64-bit ('3.10.0')",
   "language": "python",
   "name": "python3"
  },
  "language_info": {
   "name": "python",
   "version": "3.10.0"
  },
  "orig_nbformat": 4,
  "vscode": {
   "interpreter": {
    "hash": "a2e44fa781bcdf98dcea977288d5950aa11bb1cbac71acf5c5bc11359fe3b1a3"
   }
  }
 },
 "nbformat": 4,
 "nbformat_minor": 2
}
